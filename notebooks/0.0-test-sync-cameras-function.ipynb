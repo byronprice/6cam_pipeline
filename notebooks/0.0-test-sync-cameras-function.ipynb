{
 "cells": [
  {
   "cell_type": "markdown",
   "id": "a5469971",
   "metadata": {},
   "source": [
    "#### Duration: nearly instant"
   ]
  },
  {
   "cell_type": "code",
   "execution_count": 1,
   "id": "d2da23c9",
   "metadata": {},
   "outputs": [],
   "source": [
    "%load_ext autoreload\n",
    "%autoreload 2"
   ]
  },
  {
   "cell_type": "code",
   "execution_count": 1,
   "id": "900a1f1a",
   "metadata": {},
   "outputs": [
    {
     "name": "stdout",
     "output_type": "stream",
     "text": [
      "/n/groups/datta/tim_sainburg/conda_envs/mmdeploy/bin/python\n"
     ]
    }
   ],
   "source": [
    "from pathlib import Path\n",
    "import sys\n",
    "import logging\n",
    "logging.basicConfig(level=logging.INFO)\n",
    "print(sys.executable)"
   ]
  },
  {
   "cell_type": "code",
   "execution_count": 2,
   "id": "c273f6e6",
   "metadata": {},
   "outputs": [
    {
     "name": "stderr",
     "output_type": "stream",
     "text": [
      "INFO:multicamera_airflow_pipeline.tim_240731.keypoints.predict_2D:Python interpreter binary location: /n/groups/datta/tim_sainburg/conda_envs/mmdeploy/bin/python\n"
     ]
    }
   ],
   "source": [
    "from multicamera_airflow_pipeline.tim_240731.keypoints.predict_2D import Inferencer2D"
   ]
  },
  {
   "cell_type": "markdown",
   "id": "d4930f63",
   "metadata": {},
   "source": [
    "### Get recording info (google sheets)"
   ]
  },
  {
   "cell_type": "code",
   "execution_count": 3,
   "id": "63237b3a",
   "metadata": {},
   "outputs": [],
   "source": [
    "import requests\n",
    "import pandas as pd\n",
    "from io import BytesIO"
   ]
  },
  {
   "cell_type": "code",
   "execution_count": 18,
   "id": "5909c615",
   "metadata": {},
   "outputs": [],
   "source": [
    "spreadsheet_url = \"https://docs.google.com/spreadsheets/d/e/2PACX-1vROizjMMFZBEjxaWMiGj1T1veMFwTOxbsTC7xttf4tLZXbA5npUfUCDYu5gCNMOwIo-nkwicDv8W-B7/pub?gid=2042187371&single=true&output=csv\"\n",
    "# spreadsheet_url = \"https://docs.google.com/spreadsheets/d/e/2PACX-1vROizjMMFZBEjxaWMiGj1T1veMFwTOxbsTC7xttf4tLZXbA5npUfUCDYu5gCNMOwIo-nkwicDv8W-B7/pubhtml\"\n",
    "response = requests.get(spreadsheet_url)\n",
    "recording_df = pd.read_csv(BytesIO(response.content))"
   ]
  },
  {
   "cell_type": "code",
   "execution_count": 19,
   "id": "49df48f5",
   "metadata": {},
   "outputs": [
    {
     "data": {
      "text/html": [
       "<div>\n",
       "<style scoped>\n",
       "    .dataframe tbody tr th:only-of-type {\n",
       "        vertical-align: middle;\n",
       "    }\n",
       "\n",
       "    .dataframe tbody tr th {\n",
       "        vertical-align: top;\n",
       "    }\n",
       "\n",
       "    .dataframe thead th {\n",
       "        text-align: right;\n",
       "    }\n",
       "</style>\n",
       "<table border=\"1\" class=\"dataframe\">\n",
       "  <thead>\n",
       "    <tr style=\"text-align: right;\">\n",
       "      <th></th>\n",
       "      <th>Subject</th>\n",
       "      <th>duration_m</th>\n",
       "      <th>video_recording_id</th>\n",
       "      <th>ephys_id</th>\n",
       "      <th>calibration_id</th>\n",
       "      <th>video_location_on_o2</th>\n",
       "      <th>ephys_location_on_o2</th>\n",
       "      <th>calibration_location_on_o2</th>\n",
       "      <th>samplerate</th>\n",
       "      <th>username</th>\n",
       "      <th>n_ephys_streams</th>\n",
       "      <th>max_video_duration_m</th>\n",
       "      <th>use_local</th>\n",
       "      <th>User</th>\n",
       "    </tr>\n",
       "  </thead>\n",
       "  <tbody>\n",
       "    <tr>\n",
       "      <th>0</th>\n",
       "      <td>V2C-2-l</td>\n",
       "      <td>60</td>\n",
       "      <td>24-06-07-12-37-37-680000</td>\n",
       "      <td>NaN</td>\n",
       "      <td>20240607_calibration</td>\n",
       "      <td>/n/groups/datta/byron/theta/experiment3_septum...</td>\n",
       "      <td>NaN</td>\n",
       "      <td>/n/groups/datta/byron/theta/experiment3_septum...</td>\n",
       "      <td>120</td>\n",
       "      <td>byp166</td>\n",
       "      <td>0</td>\n",
       "      <td>120</td>\n",
       "      <td>False</td>\n",
       "      <td>NaN</td>\n",
       "    </tr>\n",
       "    <tr>\n",
       "      <th>1</th>\n",
       "      <td>V2C-2-lr</td>\n",
       "      <td>60</td>\n",
       "      <td>24-06-07-14-20-44-808560</td>\n",
       "      <td>NaN</td>\n",
       "      <td>20240607_calibration</td>\n",
       "      <td>/n/groups/datta/byron/theta/experiment3_septum...</td>\n",
       "      <td>NaN</td>\n",
       "      <td>/n/groups/datta/byron/theta/experiment3_septum...</td>\n",
       "      <td>120</td>\n",
       "      <td>byp166</td>\n",
       "      <td>0</td>\n",
       "      <td>120</td>\n",
       "      <td>False</td>\n",
       "      <td>NaN</td>\n",
       "    </tr>\n",
       "    <tr>\n",
       "      <th>2</th>\n",
       "      <td>V2C-2-l</td>\n",
       "      <td>60</td>\n",
       "      <td>24-06-21-10-43-59-959340</td>\n",
       "      <td>NaN</td>\n",
       "      <td>20240621_calibration</td>\n",
       "      <td>/n/groups/datta/byron/theta/experiment3_septum...</td>\n",
       "      <td>NaN</td>\n",
       "      <td>/n/groups/datta/byron/theta/experiment3_septum...</td>\n",
       "      <td>120</td>\n",
       "      <td>byp166</td>\n",
       "      <td>0</td>\n",
       "      <td>120</td>\n",
       "      <td>False</td>\n",
       "      <td>NaN</td>\n",
       "    </tr>\n",
       "  </tbody>\n",
       "</table>\n",
       "</div>"
      ],
      "text/plain": [
       "    Subject  duration_m        video_recording_id  ephys_id  \\\n",
       "0   V2C-2-l          60  24-06-07-12-37-37-680000       NaN   \n",
       "1  V2C-2-lr          60  24-06-07-14-20-44-808560       NaN   \n",
       "2   V2C-2-l          60  24-06-21-10-43-59-959340       NaN   \n",
       "\n",
       "         calibration_id                               video_location_on_o2  \\\n",
       "0  20240607_calibration  /n/groups/datta/byron/theta/experiment3_septum...   \n",
       "1  20240607_calibration  /n/groups/datta/byron/theta/experiment3_septum...   \n",
       "2  20240621_calibration  /n/groups/datta/byron/theta/experiment3_septum...   \n",
       "\n",
       "   ephys_location_on_o2                         calibration_location_on_o2  \\\n",
       "0                   NaN  /n/groups/datta/byron/theta/experiment3_septum...   \n",
       "1                   NaN  /n/groups/datta/byron/theta/experiment3_septum...   \n",
       "2                   NaN  /n/groups/datta/byron/theta/experiment3_septum...   \n",
       "\n",
       "   samplerate username  n_ephys_streams  max_video_duration_m  use_local  User  \n",
       "0         120   byp166                0                   120      False   NaN  \n",
       "1         120   byp166                0                   120      False   NaN  \n",
       "2         120   byp166                0                   120      False   NaN  "
      ]
     },
     "execution_count": 19,
     "metadata": {},
     "output_type": "execute_result"
    }
   ],
   "source": [
    "recording_df[:3]"
   ]
  },
  {
   "cell_type": "markdown",
   "id": "a3d7cdc7",
   "metadata": {},
   "source": [
    "### Run sync"
   ]
  },
  {
   "cell_type": "code",
   "execution_count": 20,
   "id": "5d8a95e4",
   "metadata": {},
   "outputs": [],
   "source": [
    "for idx, recording_row in recording_df.iterrows():\n",
    "    break"
   ]
  },
  {
   "cell_type": "code",
   "execution_count": 21,
   "id": "e073d164",
   "metadata": {},
   "outputs": [
    {
     "name": "stdout",
     "output_type": "stream",
     "text": [
      "Subject                                                                 V2C-2-l\n",
      "duration_m                                                                   60\n",
      "video_recording_id                                     24-06-07-12-37-37-680000\n",
      "ephys_id                                                                    NaN\n",
      "calibration_id                                             20240607_calibration\n",
      "video_location_on_o2          /n/groups/datta/byron/theta/experiment3_septum...\n",
      "ephys_location_on_o2                                                        NaN\n",
      "calibration_location_on_o2    /n/groups/datta/byron/theta/experiment3_septum...\n",
      "samplerate                                                                  120\n",
      "username                                                                 byp166\n",
      "n_ephys_streams                                                               0\n",
      "max_video_duration_m                                                        120\n",
      "use_local                                                                 False\n",
      "User                                                                        NaN\n",
      "Name: 0, dtype: object\n"
     ]
    }
   ],
   "source": [
    "print(recording_row)"
   ]
  },
  {
   "cell_type": "code",
   "execution_count": 22,
   "id": "540d1b62",
   "metadata": {},
   "outputs": [],
   "source": [
    "SAMPLERATE = 120\n",
    "TRIGGER_PIN = 2"
   ]
  },
  {
   "cell_type": "code",
   "execution_count": 23,
   "id": "70da145f",
   "metadata": {},
   "outputs": [
    {
     "name": "stdout",
     "output_type": "stream",
     "text": [
      "/n/groups/datta/byron/ephys_pipeline/scratch/septumopto-3d-pipeline\n"
     ]
    }
   ],
   "source": [
    "output_directory = Path(\"/n/groups/datta/byron/ephys_pipeline/scratch\") / \"septumopto-3d-pipeline\"\n",
    "print(output_directory)"
   ]
  },
  {
   "cell_type": "code",
   "execution_count": 24,
   "id": "8bc38bb1",
   "metadata": {},
   "outputs": [],
   "source": [
    "output_directory_camera_sync = output_directory / 'camera_sync' / recording_row.video_recording_id\n",
    "output_directory_camera_sync.mkdir(parents=True, exist_ok=True)"
   ]
  },
  {
   "cell_type": "code",
   "execution_count": 25,
   "id": "14f5d2d6",
   "metadata": {},
   "outputs": [],
   "source": [
    "from multicamera_airflow_pipeline.tim_240731.sync.sync_cameras import CameraSynchronizer"
   ]
  },
  {
   "cell_type": "code",
   "execution_count": 26,
   "id": "ba3e5991",
   "metadata": {},
   "outputs": [],
   "source": [
    "dir_name = recording_row.video_location_on_o2 + \"/\" + recording_row.video_recording_id\n",
    "video_directory = Path(dir_name)"
   ]
  },
  {
   "cell_type": "code",
   "execution_count": 27,
   "id": "5062db15",
   "metadata": {},
   "outputs": [
    {
     "name": "stdout",
     "output_type": "stream",
     "text": [
      "Help on class CameraSynchronizer in module multicamera_airflow_pipeline.tim_240731.sync.sync_cameras:\n",
      "\n",
      "class CameraSynchronizer(builtins.object)\n",
      " |  CameraSynchronizer(recording_directory, output_directory, samplerate, trigger_pin=2, recompute_completed=False)\n",
      " |  \n",
      " |  Methods defined here:\n",
      " |  \n",
      " |  __init__(self, recording_directory, output_directory, samplerate, trigger_pin=2, recompute_completed=False)\n",
      " |      Parameters\n",
      " |      ----------\n",
      " |      recording_directory : Path\n",
      " |          Path to the directory containing the recording data.\n",
      " |      output_location : Path\n",
      " |          Path to the directory where the synchronized data will be saved.\n",
      " |      trigger_pin : int\n",
      " |          GPIO pin number used to trigger the recording.\n",
      " |  \n",
      " |  check_completed(self)\n",
      " |  \n",
      " |  check_if_correct_fps(self)\n",
      " |  \n",
      " |  load_config(self)\n",
      " |  \n",
      " |  load_metadata(self)\n",
      " |  \n",
      " |  load_triggerdata(self)\n",
      " |  \n",
      " |  run(self)\n",
      " |  \n",
      " |  ----------------------------------------------------------------------\n",
      " |  Data descriptors defined here:\n",
      " |  \n",
      " |  __dict__\n",
      " |      dictionary for instance variables (if defined)\n",
      " |  \n",
      " |  __weakref__\n",
      " |      list of weak references to the object (if defined)\n",
      "\n"
     ]
    }
   ],
   "source": [
    "help(CameraSynchronizer)"
   ]
  },
  {
   "cell_type": "code",
   "execution_count": 28,
   "id": "223c260d",
   "metadata": {},
   "outputs": [],
   "source": [
    "synchronizer = CameraSynchronizer(\n",
    "    recording_directory = video_directory,\n",
    "    output_directory = output_directory_camera_sync,\n",
    "    samplerate = SAMPLERATE, # camera sample rate\n",
    "    trigger_pin= 2, # Which pin camera trigger was on\n",
    ")"
   ]
  },
  {
   "cell_type": "code",
   "execution_count": 29,
   "id": "7937b729",
   "metadata": {},
   "outputs": [
    {
     "name": "stderr",
     "output_type": "stream",
     "text": [
      "INFO:multicamera_airflow_pipeline.tim_240731.sync.sync_cameras:Checking if correct FPS\n",
      "INFO:multicamera_airflow_pipeline.tim_240731.sync.sync_cameras:Loading video config, metadata, and triggerdata\n",
      "INFO:multicamera_airflow_pipeline.tim_240731.sync.sync_cameras:\t aligning frames for camera: bottom\n"
     ]
    },
    {
     "ename": "ValueError",
     "evalue": "could not convert string 'None' to float64 at row 0, column 5.",
     "output_type": "error",
     "traceback": [
      "\u001b[0;31m---------------------------------------------------------------------------\u001b[0m",
      "\u001b[0;31mValueError\u001b[0m                                Traceback (most recent call last)",
      "\u001b[0;31mValueError\u001b[0m: could not convert string to float: 'None'",
      "\nThe above exception was the direct cause of the following exception:\n",
      "\u001b[0;31mValueError\u001b[0m                                Traceback (most recent call last)",
      "Cell \u001b[0;32mIn[29], line 1\u001b[0m\n\u001b[0;32m----> 1\u001b[0m \u001b[43msynchronizer\u001b[49m\u001b[38;5;241;43m.\u001b[39;49m\u001b[43mrun\u001b[49m\u001b[43m(\u001b[49m\u001b[43m)\u001b[49m\n",
      "File \u001b[0;32m/n/groups/datta/tim_sainburg/projects/multicamera_airflow_pipeline/multicamera_airflow_pipeline/tim_240731/sync/sync_cameras.py:156\u001b[0m, in \u001b[0;36mCameraSynchronizer.run\u001b[0;34m(self)\u001b[0m\n\u001b[1;32m    153\u001b[0m pulse_frame_idx \u001b[38;5;241m=\u001b[39m \u001b[38;5;241m0\u001b[39m\n\u001b[1;32m    154\u001b[0m \u001b[38;5;28;01mfor\u001b[39;00m metadata_csv \u001b[38;5;129;01min\u001b[39;00m camera_metadata_csvs\u001b[38;5;241m.\u001b[39mcsv_loc\u001b[38;5;241m.\u001b[39mvalues:\n\u001b[1;32m    155\u001b[0m     \u001b[38;5;66;03m# get the hardware timestamp from the metadata csv\u001b[39;00m\n\u001b[0;32m--> 156\u001b[0m     camera_hw_timestamps \u001b[38;5;241m=\u001b[39m \u001b[43mnp\u001b[49m\u001b[38;5;241;43m.\u001b[39;49m\u001b[43mloadtxt\u001b[49m\u001b[43m(\u001b[49m\u001b[43mmetadata_csv\u001b[49m\u001b[43m,\u001b[49m\u001b[43m \u001b[49m\u001b[43mdelimiter\u001b[49m\u001b[38;5;241;43m=\u001b[39;49m\u001b[38;5;124;43m\"\u001b[39;49m\u001b[38;5;124;43m,\u001b[39;49m\u001b[38;5;124;43m\"\u001b[39;49m\u001b[43m,\u001b[49m\u001b[43m \u001b[49m\u001b[43mskiprows\u001b[49m\u001b[38;5;241;43m=\u001b[39;49m\u001b[38;5;241;43m1\u001b[39;49m\u001b[43m)\u001b[49m[:, \u001b[38;5;241m1\u001b[39m]\n\u001b[1;32m    157\u001b[0m     camera_hw_timestamps \u001b[38;5;241m/\u001b[39m\u001b[38;5;241m=\u001b[39m \u001b[38;5;241m1e3\u001b[39m  \u001b[38;5;66;03m# Convert from nanoseconds to microseconds\u001b[39;00m\n\u001b[1;32m    159\u001b[0m     \u001b[38;5;66;03m# estimate the dropped frames\u001b[39;00m\n",
      "File \u001b[0;32m/n/groups/datta/tim_sainburg/conda_envs/mmdeploy/lib/python3.10/site-packages/numpy/lib/npyio.py:1373\u001b[0m, in \u001b[0;36mloadtxt\u001b[0;34m(fname, dtype, comments, delimiter, converters, skiprows, usecols, unpack, ndmin, encoding, max_rows, quotechar, like)\u001b[0m\n\u001b[1;32m   1370\u001b[0m \u001b[38;5;28;01mif\u001b[39;00m \u001b[38;5;28misinstance\u001b[39m(delimiter, \u001b[38;5;28mbytes\u001b[39m):\n\u001b[1;32m   1371\u001b[0m     delimiter \u001b[38;5;241m=\u001b[39m delimiter\u001b[38;5;241m.\u001b[39mdecode(\u001b[38;5;124m'\u001b[39m\u001b[38;5;124mlatin1\u001b[39m\u001b[38;5;124m'\u001b[39m)\n\u001b[0;32m-> 1373\u001b[0m arr \u001b[38;5;241m=\u001b[39m \u001b[43m_read\u001b[49m\u001b[43m(\u001b[49m\u001b[43mfname\u001b[49m\u001b[43m,\u001b[49m\u001b[43m \u001b[49m\u001b[43mdtype\u001b[49m\u001b[38;5;241;43m=\u001b[39;49m\u001b[43mdtype\u001b[49m\u001b[43m,\u001b[49m\u001b[43m \u001b[49m\u001b[43mcomment\u001b[49m\u001b[38;5;241;43m=\u001b[39;49m\u001b[43mcomment\u001b[49m\u001b[43m,\u001b[49m\u001b[43m \u001b[49m\u001b[43mdelimiter\u001b[49m\u001b[38;5;241;43m=\u001b[39;49m\u001b[43mdelimiter\u001b[49m\u001b[43m,\u001b[49m\n\u001b[1;32m   1374\u001b[0m \u001b[43m            \u001b[49m\u001b[43mconverters\u001b[49m\u001b[38;5;241;43m=\u001b[39;49m\u001b[43mconverters\u001b[49m\u001b[43m,\u001b[49m\u001b[43m \u001b[49m\u001b[43mskiplines\u001b[49m\u001b[38;5;241;43m=\u001b[39;49m\u001b[43mskiprows\u001b[49m\u001b[43m,\u001b[49m\u001b[43m \u001b[49m\u001b[43musecols\u001b[49m\u001b[38;5;241;43m=\u001b[39;49m\u001b[43musecols\u001b[49m\u001b[43m,\u001b[49m\n\u001b[1;32m   1375\u001b[0m \u001b[43m            \u001b[49m\u001b[43munpack\u001b[49m\u001b[38;5;241;43m=\u001b[39;49m\u001b[43munpack\u001b[49m\u001b[43m,\u001b[49m\u001b[43m \u001b[49m\u001b[43mndmin\u001b[49m\u001b[38;5;241;43m=\u001b[39;49m\u001b[43mndmin\u001b[49m\u001b[43m,\u001b[49m\u001b[43m \u001b[49m\u001b[43mencoding\u001b[49m\u001b[38;5;241;43m=\u001b[39;49m\u001b[43mencoding\u001b[49m\u001b[43m,\u001b[49m\n\u001b[1;32m   1376\u001b[0m \u001b[43m            \u001b[49m\u001b[43mmax_rows\u001b[49m\u001b[38;5;241;43m=\u001b[39;49m\u001b[43mmax_rows\u001b[49m\u001b[43m,\u001b[49m\u001b[43m \u001b[49m\u001b[43mquote\u001b[49m\u001b[38;5;241;43m=\u001b[39;49m\u001b[43mquotechar\u001b[49m\u001b[43m)\u001b[49m\n\u001b[1;32m   1378\u001b[0m \u001b[38;5;28;01mreturn\u001b[39;00m arr\n",
      "File \u001b[0;32m/n/groups/datta/tim_sainburg/conda_envs/mmdeploy/lib/python3.10/site-packages/numpy/lib/npyio.py:1016\u001b[0m, in \u001b[0;36m_read\u001b[0;34m(fname, delimiter, comment, quote, imaginary_unit, usecols, skiplines, max_rows, converters, ndmin, unpack, dtype, encoding)\u001b[0m\n\u001b[1;32m   1013\u001b[0m     data \u001b[38;5;241m=\u001b[39m _preprocess_comments(data, comments, encoding)\n\u001b[1;32m   1015\u001b[0m \u001b[38;5;28;01mif\u001b[39;00m read_dtype_via_object_chunks \u001b[38;5;129;01mis\u001b[39;00m \u001b[38;5;28;01mNone\u001b[39;00m:\n\u001b[0;32m-> 1016\u001b[0m     arr \u001b[38;5;241m=\u001b[39m \u001b[43m_load_from_filelike\u001b[49m\u001b[43m(\u001b[49m\n\u001b[1;32m   1017\u001b[0m \u001b[43m        \u001b[49m\u001b[43mdata\u001b[49m\u001b[43m,\u001b[49m\u001b[43m \u001b[49m\u001b[43mdelimiter\u001b[49m\u001b[38;5;241;43m=\u001b[39;49m\u001b[43mdelimiter\u001b[49m\u001b[43m,\u001b[49m\u001b[43m \u001b[49m\u001b[43mcomment\u001b[49m\u001b[38;5;241;43m=\u001b[39;49m\u001b[43mcomment\u001b[49m\u001b[43m,\u001b[49m\u001b[43m \u001b[49m\u001b[43mquote\u001b[49m\u001b[38;5;241;43m=\u001b[39;49m\u001b[43mquote\u001b[49m\u001b[43m,\u001b[49m\n\u001b[1;32m   1018\u001b[0m \u001b[43m        \u001b[49m\u001b[43mimaginary_unit\u001b[49m\u001b[38;5;241;43m=\u001b[39;49m\u001b[43mimaginary_unit\u001b[49m\u001b[43m,\u001b[49m\n\u001b[1;32m   1019\u001b[0m \u001b[43m        \u001b[49m\u001b[43musecols\u001b[49m\u001b[38;5;241;43m=\u001b[39;49m\u001b[43musecols\u001b[49m\u001b[43m,\u001b[49m\u001b[43m \u001b[49m\u001b[43mskiplines\u001b[49m\u001b[38;5;241;43m=\u001b[39;49m\u001b[43mskiplines\u001b[49m\u001b[43m,\u001b[49m\u001b[43m \u001b[49m\u001b[43mmax_rows\u001b[49m\u001b[38;5;241;43m=\u001b[39;49m\u001b[43mmax_rows\u001b[49m\u001b[43m,\u001b[49m\n\u001b[1;32m   1020\u001b[0m \u001b[43m        \u001b[49m\u001b[43mconverters\u001b[49m\u001b[38;5;241;43m=\u001b[39;49m\u001b[43mconverters\u001b[49m\u001b[43m,\u001b[49m\u001b[43m \u001b[49m\u001b[43mdtype\u001b[49m\u001b[38;5;241;43m=\u001b[39;49m\u001b[43mdtype\u001b[49m\u001b[43m,\u001b[49m\n\u001b[1;32m   1021\u001b[0m \u001b[43m        \u001b[49m\u001b[43mencoding\u001b[49m\u001b[38;5;241;43m=\u001b[39;49m\u001b[43mencoding\u001b[49m\u001b[43m,\u001b[49m\u001b[43m \u001b[49m\u001b[43mfilelike\u001b[49m\u001b[38;5;241;43m=\u001b[39;49m\u001b[43mfilelike\u001b[49m\u001b[43m,\u001b[49m\n\u001b[1;32m   1022\u001b[0m \u001b[43m        \u001b[49m\u001b[43mbyte_converters\u001b[49m\u001b[38;5;241;43m=\u001b[39;49m\u001b[43mbyte_converters\u001b[49m\u001b[43m)\u001b[49m\n\u001b[1;32m   1024\u001b[0m \u001b[38;5;28;01melse\u001b[39;00m:\n\u001b[1;32m   1025\u001b[0m     \u001b[38;5;66;03m# This branch reads the file into chunks of object arrays and then\u001b[39;00m\n\u001b[1;32m   1026\u001b[0m     \u001b[38;5;66;03m# casts them to the desired actual dtype.  This ensures correct\u001b[39;00m\n\u001b[1;32m   1027\u001b[0m     \u001b[38;5;66;03m# string-length and datetime-unit discovery (like `arr.astype()`).\u001b[39;00m\n\u001b[1;32m   1028\u001b[0m     \u001b[38;5;66;03m# Due to chunking, certain error reports are less clear, currently.\u001b[39;00m\n\u001b[1;32m   1029\u001b[0m     \u001b[38;5;28;01mif\u001b[39;00m filelike:\n",
      "\u001b[0;31mValueError\u001b[0m: could not convert string 'None' to float64 at row 0, column 5."
     ]
    }
   ],
   "source": [
    "synchronizer.run()"
   ]
  },
  {
   "cell_type": "code",
   "execution_count": 27,
   "id": "c5a2e517",
   "metadata": {},
   "outputs": [
    {
     "name": "stdout",
     "output_type": "stream",
     "text": [
      "camera_sync.csv\r\n"
     ]
    }
   ],
   "source": [
    "!ls {output_directory_camera_sync}"
   ]
  },
  {
   "cell_type": "code",
   "execution_count": 30,
   "id": "fc6d51ad",
   "metadata": {},
   "outputs": [
    {
     "name": "stdout",
     "output_type": "stream",
     "text": [
      ",trigger_times,trigger_states,BackBottom_frames,BackLeft_frames,BackRight_frames,FrontBottom_frames,FrontLeft_frames,FrontRight_frames,datetime_est\r\n",
      "0,0.0,0,0,0,0,0,0,0,1714584403.110846\r\n",
      "1,6666.0,0,1,1,1,1,1,1,1714584403.117512\r\n",
      "2,13332.0,1,2,2,2,2,2,2,1714584403.124178\r\n",
      "3,19998.0,1,3,3,3,3,3,3,1714584403.130844\r\n",
      "4,26664.0,1,4,4,4,4,4,4,1714584403.13751\r\n",
      "5,33330.0,0,5,5,5,5,5,5,1714584403.144176\r\n",
      "6,39996.0,0,6,6,6,6,6,6,1714584403.150842\r\n",
      "7,46662.0,0,7,7,7,7,7,7,1714584403.157508\r\n",
      "8,53328.0,0,8,8,8,8,8,8,1714584403.164174\r\n"
     ]
    }
   ],
   "source": [
    "!head {output_directory_camera_sync/'camera_sync.csv'}"
   ]
  },
  {
   "cell_type": "code",
   "execution_count": 29,
   "id": "d45c4d32",
   "metadata": {},
   "outputs": [
    {
     "data": {
      "text/html": [
       "<div>\n",
       "<style scoped>\n",
       "    .dataframe tbody tr th:only-of-type {\n",
       "        vertical-align: middle;\n",
       "    }\n",
       "\n",
       "    .dataframe tbody tr th {\n",
       "        vertical-align: top;\n",
       "    }\n",
       "\n",
       "    .dataframe thead th {\n",
       "        text-align: right;\n",
       "    }\n",
       "</style>\n",
       "<table border=\"1\" class=\"dataframe\">\n",
       "  <thead>\n",
       "    <tr style=\"text-align: right;\">\n",
       "      <th></th>\n",
       "      <th>Unnamed: 0</th>\n",
       "      <th>trigger_times</th>\n",
       "      <th>trigger_states</th>\n",
       "      <th>BackBottom_frames</th>\n",
       "      <th>BackLeft_frames</th>\n",
       "      <th>BackRight_frames</th>\n",
       "      <th>FrontBottom_frames</th>\n",
       "      <th>FrontLeft_frames</th>\n",
       "      <th>FrontRight_frames</th>\n",
       "      <th>datetime_est</th>\n",
       "    </tr>\n",
       "  </thead>\n",
       "  <tbody>\n",
       "    <tr>\n",
       "      <th>0</th>\n",
       "      <td>0</td>\n",
       "      <td>0.0</td>\n",
       "      <td>0</td>\n",
       "      <td>0</td>\n",
       "      <td>0</td>\n",
       "      <td>0</td>\n",
       "      <td>0</td>\n",
       "      <td>0</td>\n",
       "      <td>0</td>\n",
       "      <td>1.714584e+09</td>\n",
       "    </tr>\n",
       "    <tr>\n",
       "      <th>1</th>\n",
       "      <td>1</td>\n",
       "      <td>6666.0</td>\n",
       "      <td>0</td>\n",
       "      <td>1</td>\n",
       "      <td>1</td>\n",
       "      <td>1</td>\n",
       "      <td>1</td>\n",
       "      <td>1</td>\n",
       "      <td>1</td>\n",
       "      <td>1.714584e+09</td>\n",
       "    </tr>\n",
       "    <tr>\n",
       "      <th>2</th>\n",
       "      <td>2</td>\n",
       "      <td>13332.0</td>\n",
       "      <td>1</td>\n",
       "      <td>2</td>\n",
       "      <td>2</td>\n",
       "      <td>2</td>\n",
       "      <td>2</td>\n",
       "      <td>2</td>\n",
       "      <td>2</td>\n",
       "      <td>1.714584e+09</td>\n",
       "    </tr>\n",
       "  </tbody>\n",
       "</table>\n",
       "</div>"
      ],
      "text/plain": [
       "   Unnamed: 0  trigger_times  trigger_states  BackBottom_frames  \\\n",
       "0           0            0.0               0                  0   \n",
       "1           1         6666.0               0                  1   \n",
       "2           2        13332.0               1                  2   \n",
       "\n",
       "   BackLeft_frames  BackRight_frames  FrontBottom_frames  FrontLeft_frames  \\\n",
       "0                0                 0                   0                 0   \n",
       "1                1                 1                   1                 1   \n",
       "2                2                 2                   2                 2   \n",
       "\n",
       "   FrontRight_frames  datetime_est  \n",
       "0                  0  1.714584e+09  \n",
       "1                  1  1.714584e+09  \n",
       "2                  2  1.714584e+09  "
      ]
     },
     "execution_count": 29,
     "metadata": {},
     "output_type": "execute_result"
    }
   ],
   "source": [
    "pd.read_csv(output_directory_camera_sync/'camera_sync.csv')[:3]"
   ]
  }
 ],
 "metadata": {
  "kernelspec": {
   "display_name": "analysis",
   "language": "python",
   "name": "python3"
  },
  "language_info": {
   "codemirror_mode": {
    "name": "ipython",
    "version": 3
   },
   "file_extension": ".py",
   "mimetype": "text/x-python",
   "name": "python",
   "nbconvert_exporter": "python",
   "pygments_lexer": "ipython3",
   "version": "3.10.13"
  }
 },
 "nbformat": 4,
 "nbformat_minor": 5
}
